{
 "cells": [
  {
   "cell_type": "code",
   "execution_count": 76,
   "id": "330c92d1",
   "metadata": {},
   "outputs": [
    {
     "name": "stdout",
     "output_type": "stream",
     "text": [
      "--- Procesando hoja simple: Detalle_cliente ---\n",
      "Hoja simple guardada en: Detalle_cliente.csv\n",
      "--- Procesando hoja simple: Detalle_tx ---\n",
      "Hoja simple guardada en: Detalle_tx.csv\n",
      "--- Procesando hoja: SQL ---\n",
      "✅ Tabla 1 identificada y guardada en: SQL_tabla_1.csv\n",
      "✅ Tabla 2 identificada y guardada en: SQL_tabla_2.csv\n",
      "✅ Tabla 3 identificada y guardada en: SQL_tabla_3.csv\n"
     ]
    },
    {
     "data": {
      "text/plain": [
       "True"
      ]
     },
     "execution_count": 76,
     "metadata": {},
     "output_type": "execute_result"
    }
   ],
   "source": [
    "from functions import convert_excel_to_csv\n",
    "import pandas as pd\n",
    "\n",
    "ruta_input = \"../file/input/\"\n",
    "ruta_output = \"../file/output/\"\n",
    "convert_excel_to_csv(ruta_input, ruta_output)"
   ]
  },
  {
   "cell_type": "code",
   "execution_count": 77,
   "id": "f5fc4f84",
   "metadata": {},
   "outputs": [],
   "source": [
    "ruta_output = \"../file/output/\"\n",
    "import pandas as pd\n",
    "df_Detalle_cliente = pd.read_csv(ruta_output+'Detalle_cliente.csv',index_col=False)\n",
    "df_Detalle_tx = pd.read_csv(ruta_output+'Detalle_tx.csv',index_col=False)"
   ]
  },
  {
   "cell_type": "code",
   "execution_count": 78,
   "id": "775a2c88",
   "metadata": {},
   "outputs": [
    {
     "name": "stdout",
     "output_type": "stream",
     "text": [
      "Columnas de Detalle_cliente:\n",
      "['Id_cliente', 'fecha_efectiva', 'Id_tx']\n",
      "Columnas de Detalle_tx:\n",
      "['Id_tx', 'clase', 'valor']\n"
     ]
    }
   ],
   "source": [
    "# imprimir columnas de los DataFrames\n",
    "df_Detalle_cliente.columns = df_Detalle_cliente.columns.str.strip()\n",
    "df_Detalle_tx.columns = df_Detalle_tx.columns.str.strip()\n",
    "print(\"Columnas de Detalle_cliente:\")\n",
    "print(df_Detalle_cliente.columns.tolist())\n",
    "print(\"Columnas de Detalle_tx:\")\n",
    "print(df_Detalle_tx.columns.tolist())"
   ]
  },
  {
   "cell_type": "code",
   "execution_count": 79,
   "id": "346f61f3",
   "metadata": {},
   "outputs": [
    {
     "name": "stdout",
     "output_type": "stream",
     "text": [
      "¡Perfecto! Las columnas 'Id_tx' son idénticas y están en el mismo orden.\n",
      "Columnas del DataFrame combinado:\n",
      "['Id_cliente', 'fecha_efectiva', 'Id_tx', 'clase', 'valor']\n"
     ]
    }
   ],
   "source": [
    "# si las dos columnas son exactamente iguales en contenido y orden.\n",
    "comparacion_exacta = df_Detalle_cliente['Id_tx'].equals(df_Detalle_tx['Id_tx'])\n",
    "\n",
    "if comparacion_exacta:\n",
    "    print(\"¡Perfecto! Las columnas 'Id_tx' son idénticas y están en el mismo orden.\")\n",
    "    df_Detalles = pd.concat([df_Detalle_cliente, df_Detalle_tx.drop('Id_tx', axis=1)], axis=1)\n",
    "\n",
    "print(\"Columnas del DataFrame combinado:\")\n",
    "print(df_Detalles.columns.tolist())\n",
    "\n"
   ]
  },
  {
   "cell_type": "code",
   "execution_count": 80,
   "id": "1ba85781",
   "metadata": {},
   "outputs": [
    {
     "name": "stdout",
     "output_type": "stream",
     "text": [
      "<class 'pandas.core.frame.DataFrame'>\n",
      "RangeIndex: 2500 entries, 0 to 2499\n",
      "Data columns (total 5 columns):\n",
      " #   Column          Non-Null Count  Dtype  \n",
      "---  ------          --------------  -----  \n",
      " 0   Id_cliente      2500 non-null   int64  \n",
      " 1   fecha_efectiva  2488 non-null   float64\n",
      " 2   Id_tx           2500 non-null   int64  \n",
      " 3   clase           2495 non-null   object \n",
      " 4   valor           2476 non-null   object \n",
      "dtypes: float64(1), int64(2), object(2)\n",
      "memory usage: 97.8+ KB\n"
     ]
    }
   ],
   "source": [
    "df_Detalles.info()"
   ]
  },
  {
   "cell_type": "code",
   "execution_count": 81,
   "id": "21dbd629",
   "metadata": {},
   "outputs": [
    {
     "data": {
      "application/vnd.microsoft.datawrangler.viewer.v0+json": {
       "columns": [
        {
         "name": "index",
         "rawType": "object",
         "type": "string"
        },
        {
         "name": "Id_cliente",
         "rawType": "float64",
         "type": "float"
        },
        {
         "name": "Id_tx",
         "rawType": "float64",
         "type": "float"
        },
        {
         "name": "valor",
         "rawType": "float64",
         "type": "float"
        }
       ],
       "ref": "8ca2e3e9-8716-4e36-9fc8-2584835d1ab9",
       "rows": [
        [
         "count",
         "2500.0",
         "2500.0",
         "2473.0"
        ],
        [
         "mean",
         "126.0408",
         "6200.0708",
         "375502.310553983"
        ],
        [
         "std",
         "11.125315474977198",
         "2132.009397027829",
         "581587.7208197226"
        ],
        [
         "min",
         "91.0",
         "2457.0",
         "20.0"
        ],
        [
         "25%",
         "119.0",
         "4394.0",
         "61500.0"
        ],
        [
         "50%",
         "126.0",
         "6140.0",
         "164900.0"
        ],
        [
         "75%",
         "134.0",
         "8087.25",
         "487509.0"
        ],
        [
         "max",
         "165.0",
         "9876.0",
         "7952039.23"
        ]
       ],
       "shape": {
        "columns": 3,
        "rows": 8
       }
      },
      "text/html": [
       "<div>\n",
       "<style scoped>\n",
       "    .dataframe tbody tr th:only-of-type {\n",
       "        vertical-align: middle;\n",
       "    }\n",
       "\n",
       "    .dataframe tbody tr th {\n",
       "        vertical-align: top;\n",
       "    }\n",
       "\n",
       "    .dataframe thead th {\n",
       "        text-align: right;\n",
       "    }\n",
       "</style>\n",
       "<table border=\"1\" class=\"dataframe\">\n",
       "  <thead>\n",
       "    <tr style=\"text-align: right;\">\n",
       "      <th></th>\n",
       "      <th>Id_cliente</th>\n",
       "      <th>Id_tx</th>\n",
       "      <th>valor</th>\n",
       "    </tr>\n",
       "  </thead>\n",
       "  <tbody>\n",
       "    <tr>\n",
       "      <th>count</th>\n",
       "      <td>2500.000000</td>\n",
       "      <td>2500.000000</td>\n",
       "      <td>2.473000e+03</td>\n",
       "    </tr>\n",
       "    <tr>\n",
       "      <th>mean</th>\n",
       "      <td>126.040800</td>\n",
       "      <td>6200.070800</td>\n",
       "      <td>3.755023e+05</td>\n",
       "    </tr>\n",
       "    <tr>\n",
       "      <th>std</th>\n",
       "      <td>11.125315</td>\n",
       "      <td>2132.009397</td>\n",
       "      <td>5.815877e+05</td>\n",
       "    </tr>\n",
       "    <tr>\n",
       "      <th>min</th>\n",
       "      <td>91.000000</td>\n",
       "      <td>2457.000000</td>\n",
       "      <td>2.000000e+01</td>\n",
       "    </tr>\n",
       "    <tr>\n",
       "      <th>25%</th>\n",
       "      <td>119.000000</td>\n",
       "      <td>4394.000000</td>\n",
       "      <td>6.150000e+04</td>\n",
       "    </tr>\n",
       "    <tr>\n",
       "      <th>50%</th>\n",
       "      <td>126.000000</td>\n",
       "      <td>6140.000000</td>\n",
       "      <td>1.649000e+05</td>\n",
       "    </tr>\n",
       "    <tr>\n",
       "      <th>75%</th>\n",
       "      <td>134.000000</td>\n",
       "      <td>8087.250000</td>\n",
       "      <td>4.875090e+05</td>\n",
       "    </tr>\n",
       "    <tr>\n",
       "      <th>max</th>\n",
       "      <td>165.000000</td>\n",
       "      <td>9876.000000</td>\n",
       "      <td>7.952039e+06</td>\n",
       "    </tr>\n",
       "  </tbody>\n",
       "</table>\n",
       "</div>"
      ],
      "text/plain": [
       "        Id_cliente        Id_tx         valor\n",
       "count  2500.000000  2500.000000  2.473000e+03\n",
       "mean    126.040800  6200.070800  3.755023e+05\n",
       "std      11.125315  2132.009397  5.815877e+05\n",
       "min      91.000000  2457.000000  2.000000e+01\n",
       "25%     119.000000  4394.000000  6.150000e+04\n",
       "50%     126.000000  6140.000000  1.649000e+05\n",
       "75%     134.000000  8087.250000  4.875090e+05\n",
       "max     165.000000  9876.000000  7.952039e+06"
      ]
     },
     "execution_count": 81,
     "metadata": {},
     "output_type": "execute_result"
    }
   ],
   "source": [
    "df_Detalles['valor'] = pd.to_numeric(df_Detalles['valor'], errors='coerce')\n",
    "df_Detalles['clase'] = df_Detalles['clase'].astype('category')\n",
    "# Convertir la columna 'fecha_efectiva' a tipo datetime\n",
    "df_Detalles['fecha_efectiva'] = pd.to_datetime(df_Detalles['fecha_efectiva'], format='%Y%m%d', errors='coerce')\n",
    "df_Detalles['fecha_efectiva'] = df_Detalles['fecha_efectiva'].dt.date\n",
    "\n",
    "df_Detalles.describe()"
   ]
  },
  {
   "cell_type": "code",
   "execution_count": 82,
   "id": "fc7b14d7",
   "metadata": {},
   "outputs": [
    {
     "name": "stdout",
     "output_type": "stream",
     "text": [
      "Id_cliente         0\n",
      "fecha_efectiva    15\n",
      "Id_tx              0\n",
      "clase              5\n",
      "valor             27\n",
      "dtype: int64\n"
     ]
    }
   ],
   "source": [
    "print(df_Detalles.isnull().sum())\n"
   ]
  },
  {
   "cell_type": "code",
   "execution_count": 83,
   "id": "72858d70",
   "metadata": {},
   "outputs": [
    {
     "name": "stdout",
     "output_type": "stream",
     "text": [
      "clase\n",
      "COMPRA    1931\n",
      "AVANCE     558\n",
      "SEGURO       6\n",
      "Name: count, dtype: int64\n"
     ]
    }
   ],
   "source": [
    "conteo_clase = df_Detalles['clase'].value_counts()\n",
    "print(conteo_clase)"
   ]
  },
  {
   "cell_type": "code",
   "execution_count": 84,
   "id": "5d723b2f",
   "metadata": {},
   "outputs": [
    {
     "name": "stdout",
     "output_type": "stream",
     "text": [
      "Ventas de clase 'SEGURO':\n",
      "      Id_cliente fecha_efectiva  Id_tx   clase     valor\n",
      "78           126     2020-10-13   7118  SEGURO  229900.0\n",
      "346          119     2020-10-02   7513  SEGURO   67900.0\n",
      "557          135     2020-09-07   5101  SEGURO  558957.0\n",
      "783          140     2020-12-12   5201  SEGURO   15900.0\n",
      "2220         135     2021-02-27   4336  SEGURO  248163.0\n",
      "2363         139     2020-10-15   4598  SEGURO  209020.0\n"
     ]
    }
   ],
   "source": [
    "df_venta_seguro = df_Detalles[df_Detalles['clase'] == 'SEGURO']\n",
    "print(\"Ventas de clase 'SEGURO':\")\n",
    "print(df_venta_seguro)"
   ]
  },
  {
   "cell_type": "code",
   "execution_count": 85,
   "id": "23ef3e38",
   "metadata": {},
   "outputs": [
    {
     "name": "stdout",
     "output_type": "stream",
     "text": [
      "clase\n",
      "COMPRA    1931\n",
      "AVANCE     558\n",
      "SEGURO       0\n",
      "Name: count, dtype: int64\n"
     ]
    }
   ],
   "source": [
    "df_Detalles = df_Detalles[df_Detalles['clase'] != 'SEGURO']\n",
    "conteo_clase = df_Detalles['clase'].value_counts()\n",
    "print(conteo_clase)\n"
   ]
  },
  {
   "cell_type": "code",
   "execution_count": 86,
   "id": "8925684d",
   "metadata": {},
   "outputs": [
    {
     "data": {
      "application/vnd.microsoft.datawrangler.viewer.v0+json": {
       "columns": [
        {
         "name": "index",
         "rawType": "object",
         "type": "string"
        },
        {
         "name": "Id_cliente",
         "rawType": "float64",
         "type": "float"
        },
        {
         "name": "Id_tx",
         "rawType": "float64",
         "type": "float"
        },
        {
         "name": "valor",
         "rawType": "float64",
         "type": "float"
        }
       ],
       "ref": "1c60efb5-4638-4c85-afcc-90df54e6e299",
       "rows": [
        [
         "count",
         "2449.0",
         "2449.0",
         "2449.0"
        ],
        [
         "mean",
         "126.10820743160474",
         "6204.238464679461",
         "376248.1135157207"
        ],
        [
         "std",
         "11.125038096259674",
         "2136.828738838103",
         "583716.2887236505"
        ],
        [
         "min",
         "91.0",
         "2457.0",
         "20.0"
        ],
        [
         "25%",
         "119.0",
         "4388.0",
         "61493.0"
        ],
        [
         "50%",
         "126.0",
         "6147.0",
         "164900.0"
        ],
        [
         "75%",
         "134.0",
         "8101.0",
         "487509.0"
        ],
        [
         "max",
         "165.0",
         "9876.0",
         "7952039.23"
        ]
       ],
       "shape": {
        "columns": 3,
        "rows": 8
       }
      },
      "text/html": [
       "<div>\n",
       "<style scoped>\n",
       "    .dataframe tbody tr th:only-of-type {\n",
       "        vertical-align: middle;\n",
       "    }\n",
       "\n",
       "    .dataframe tbody tr th {\n",
       "        vertical-align: top;\n",
       "    }\n",
       "\n",
       "    .dataframe thead th {\n",
       "        text-align: right;\n",
       "    }\n",
       "</style>\n",
       "<table border=\"1\" class=\"dataframe\">\n",
       "  <thead>\n",
       "    <tr style=\"text-align: right;\">\n",
       "      <th></th>\n",
       "      <th>Id_cliente</th>\n",
       "      <th>Id_tx</th>\n",
       "      <th>valor</th>\n",
       "    </tr>\n",
       "  </thead>\n",
       "  <tbody>\n",
       "    <tr>\n",
       "      <th>count</th>\n",
       "      <td>2449.000000</td>\n",
       "      <td>2449.000000</td>\n",
       "      <td>2.449000e+03</td>\n",
       "    </tr>\n",
       "    <tr>\n",
       "      <th>mean</th>\n",
       "      <td>126.108207</td>\n",
       "      <td>6204.238465</td>\n",
       "      <td>3.762481e+05</td>\n",
       "    </tr>\n",
       "    <tr>\n",
       "      <th>std</th>\n",
       "      <td>11.125038</td>\n",
       "      <td>2136.828739</td>\n",
       "      <td>5.837163e+05</td>\n",
       "    </tr>\n",
       "    <tr>\n",
       "      <th>min</th>\n",
       "      <td>91.000000</td>\n",
       "      <td>2457.000000</td>\n",
       "      <td>2.000000e+01</td>\n",
       "    </tr>\n",
       "    <tr>\n",
       "      <th>25%</th>\n",
       "      <td>119.000000</td>\n",
       "      <td>4388.000000</td>\n",
       "      <td>6.149300e+04</td>\n",
       "    </tr>\n",
       "    <tr>\n",
       "      <th>50%</th>\n",
       "      <td>126.000000</td>\n",
       "      <td>6147.000000</td>\n",
       "      <td>1.649000e+05</td>\n",
       "    </tr>\n",
       "    <tr>\n",
       "      <th>75%</th>\n",
       "      <td>134.000000</td>\n",
       "      <td>8101.000000</td>\n",
       "      <td>4.875090e+05</td>\n",
       "    </tr>\n",
       "    <tr>\n",
       "      <th>max</th>\n",
       "      <td>165.000000</td>\n",
       "      <td>9876.000000</td>\n",
       "      <td>7.952039e+06</td>\n",
       "    </tr>\n",
       "  </tbody>\n",
       "</table>\n",
       "</div>"
      ],
      "text/plain": [
       "        Id_cliente        Id_tx         valor\n",
       "count  2449.000000  2449.000000  2.449000e+03\n",
       "mean    126.108207  6204.238465  3.762481e+05\n",
       "std      11.125038  2136.828739  5.837163e+05\n",
       "min      91.000000  2457.000000  2.000000e+01\n",
       "25%     119.000000  4388.000000  6.149300e+04\n",
       "50%     126.000000  6147.000000  1.649000e+05\n",
       "75%     134.000000  8101.000000  4.875090e+05\n",
       "max     165.000000  9876.000000  7.952039e+06"
      ]
     },
     "execution_count": 86,
     "metadata": {},
     "output_type": "execute_result"
    }
   ],
   "source": [
    "df_Detalles = df_Detalles.dropna()\n",
    "df_Detalles.describe()"
   ]
  },
  {
   "cell_type": "code",
   "execution_count": 87,
   "id": "fdb7613d",
   "metadata": {},
   "outputs": [],
   "source": [
    "# Guardar el DataFrame combinado en un nuevo archivo CSV\n",
    "df_Detalles.to_csv('../data/'+'Detalles_clientes.csv', index=False)"
   ]
  }
 ],
 "metadata": {
  "kernelspec": {
   "display_name": "venv",
   "language": "python",
   "name": "python3"
  },
  "language_info": {
   "codemirror_mode": {
    "name": "ipython",
    "version": 3
   },
   "file_extension": ".py",
   "mimetype": "text/x-python",
   "name": "python",
   "nbconvert_exporter": "python",
   "pygments_lexer": "ipython3",
   "version": "3.10.11"
  }
 },
 "nbformat": 4,
 "nbformat_minor": 5
}
