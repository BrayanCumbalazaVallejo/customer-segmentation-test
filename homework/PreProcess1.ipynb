{
 "cells": [
  {
   "cell_type": "code",
   "execution_count": 1,
   "id": "330c92d1",
   "metadata": {},
   "outputs": [
    {
     "name": "stdout",
     "output_type": "stream",
     "text": [
      "--- Procesando hoja simple: Detalle_cliente ---\n",
      "Hoja simple guardada en: Detalle_cliente.csv\n",
      "--- Procesando hoja simple: Detalle_tx ---\n",
      "Hoja simple guardada en: Detalle_tx.csv\n",
      "--- Procesando hoja: SQL ---\n",
      "✅ Tabla 1 identificada y guardada en: SQL_tabla_1.csv\n",
      "✅ Tabla 2 identificada y guardada en: SQL_tabla_2.csv\n",
      "✅ Tabla 3 identificada y guardada en: SQL_tabla_3.csv\n"
     ]
    },
    {
     "data": {
      "text/plain": [
       "True"
      ]
     },
     "execution_count": 1,
     "metadata": {},
     "output_type": "execute_result"
    }
   ],
   "source": [
    "from functions import convert_excel_to_csv\n",
    "import pandas as pd\n",
    "\n",
    "ruta_input = \"../file/input/\"\n",
    "ruta_output = \"../file/output/\"\n",
    "convert_excel_to_csv(ruta_input, ruta_output)"
   ]
  },
  {
   "cell_type": "code",
   "execution_count": 2,
   "id": "f5fc4f84",
   "metadata": {},
   "outputs": [],
   "source": [
    "ruta_output = \"../file/output/\"\n",
    "import pandas as pd\n",
    "df_Detalle_cliente = pd.read_csv(ruta_output+'Detalle_cliente.csv',index_col=False)\n",
    "df_Detalle_tx = pd.read_csv(ruta_output+'Detalle_tx.csv',index_col=False)"
   ]
  },
  {
   "cell_type": "code",
   "execution_count": 3,
   "id": "775a2c88",
   "metadata": {},
   "outputs": [
    {
     "name": "stdout",
     "output_type": "stream",
     "text": [
      "Columnas de Detalle_cliente:\n",
      "['Id_cliente', 'fecha_efectiva', 'Id_tx']\n",
      "Columnas de Detalle_tx:\n",
      "['Id_tx', 'clase', 'valor']\n"
     ]
    }
   ],
   "source": [
    "df_Detalle_cliente.columns = df_Detalle_cliente.columns.str.strip()\n",
    "df_Detalle_tx.columns = df_Detalle_tx.columns.str.strip()\n",
    "print(\"Columnas de Detalle_cliente:\")\n",
    "print(df_Detalle_cliente.columns.tolist())\n",
    "print(\"Columnas de Detalle_tx:\")\n",
    "print(df_Detalle_tx.columns.tolist())"
   ]
  },
  {
   "cell_type": "code",
   "execution_count": 4,
   "id": "346f61f3",
   "metadata": {},
   "outputs": [
    {
     "name": "stdout",
     "output_type": "stream",
     "text": [
      "¡Perfecto! Las columnas 'Id_tx' son idénticas y están en el mismo orden.\n",
      "Columnas del DataFrame combinado:\n",
      "['Id_cliente', 'fecha_efectiva', 'Id_tx', 'clase', 'valor']\n"
     ]
    }
   ],
   "source": [
    "comparacion_exacta = df_Detalle_cliente['Id_tx'].equals(df_Detalle_tx['Id_tx'])\n",
    "\n",
    "if comparacion_exacta:\n",
    "    print(\"¡Perfecto! Las columnas 'Id_tx' son idénticas y están en el mismo orden.\")\n",
    "    df_Detalles = pd.concat([df_Detalle_cliente, df_Detalle_tx.drop('Id_tx', axis=1)], axis=1)\n",
    "\n",
    "print(\"Columnas del DataFrame combinado:\")\n",
    "print(df_Detalles.columns.tolist())"
   ]
  },
  {
   "cell_type": "code",
   "execution_count": 5,
   "id": "1ba85781",
   "metadata": {},
   "outputs": [
    {
     "name": "stdout",
     "output_type": "stream",
     "text": [
      "<class 'pandas.core.frame.DataFrame'>\n",
      "RangeIndex: 2500 entries, 0 to 2499\n",
      "Data columns (total 5 columns):\n",
      " #   Column          Non-Null Count  Dtype  \n",
      "---  ------          --------------  -----  \n",
      " 0   Id_cliente      2500 non-null   int64  \n",
      " 1   fecha_efectiva  2488 non-null   float64\n",
      " 2   Id_tx           2500 non-null   int64  \n",
      " 3   clase           2495 non-null   object \n",
      " 4   valor           2476 non-null   object \n",
      "dtypes: float64(1), int64(2), object(2)\n",
      "memory usage: 97.8+ KB\n"
     ]
    }
   ],
   "source": [
    "df_Detalles.info()"
   ]
  },
  {
   "cell_type": "code",
   "execution_count": 6,
   "id": "a7e35805",
   "metadata": {},
   "outputs": [
    {
     "data": {
      "application/vnd.microsoft.datawrangler.viewer.v0+json": {
       "columns": [
        {
         "name": "index",
         "rawType": "object",
         "type": "string"
        },
        {
         "name": "Id_cliente",
         "rawType": "float64",
         "type": "float"
        },
        {
         "name": "fecha_efectiva",
         "rawType": "float64",
         "type": "float"
        },
        {
         "name": "Id_tx",
         "rawType": "float64",
         "type": "float"
        }
       ],
       "ref": "e2e75ac2-94b8-4378-8d14-a0adab625323",
       "rows": [
        [
         "count",
         "2500.0",
         "2488.0",
         "2500.0"
        ],
        [
         "mean",
         "126.0408",
         "20171608.670819934",
         "6200.0708"
        ],
        [
         "std",
         "11.125315474977198",
         "805548.0454118183",
         "2132.009397027829"
        ],
        [
         "min",
         "91.0",
         "2020.0",
         "2457.0"
        ],
        [
         "25%",
         "119.0",
         "20201019.0",
         "4394.0"
        ],
        [
         "50%",
         "126.0",
         "20201202.0",
         "6140.0"
        ],
        [
         "75%",
         "134.0",
         "20210118.0",
         "8087.25"
        ],
        [
         "max",
         "165.0",
         "20210308.0",
         "9876.0"
        ]
       ],
       "shape": {
        "columns": 3,
        "rows": 8
       }
      },
      "text/html": [
       "<div>\n",
       "<style scoped>\n",
       "    .dataframe tbody tr th:only-of-type {\n",
       "        vertical-align: middle;\n",
       "    }\n",
       "\n",
       "    .dataframe tbody tr th {\n",
       "        vertical-align: top;\n",
       "    }\n",
       "\n",
       "    .dataframe thead th {\n",
       "        text-align: right;\n",
       "    }\n",
       "</style>\n",
       "<table border=\"1\" class=\"dataframe\">\n",
       "  <thead>\n",
       "    <tr style=\"text-align: right;\">\n",
       "      <th></th>\n",
       "      <th>Id_cliente</th>\n",
       "      <th>fecha_efectiva</th>\n",
       "      <th>Id_tx</th>\n",
       "    </tr>\n",
       "  </thead>\n",
       "  <tbody>\n",
       "    <tr>\n",
       "      <th>count</th>\n",
       "      <td>2500.000000</td>\n",
       "      <td>2.488000e+03</td>\n",
       "      <td>2500.000000</td>\n",
       "    </tr>\n",
       "    <tr>\n",
       "      <th>mean</th>\n",
       "      <td>126.040800</td>\n",
       "      <td>2.017161e+07</td>\n",
       "      <td>6200.070800</td>\n",
       "    </tr>\n",
       "    <tr>\n",
       "      <th>std</th>\n",
       "      <td>11.125315</td>\n",
       "      <td>8.055480e+05</td>\n",
       "      <td>2132.009397</td>\n",
       "    </tr>\n",
       "    <tr>\n",
       "      <th>min</th>\n",
       "      <td>91.000000</td>\n",
       "      <td>2.020000e+03</td>\n",
       "      <td>2457.000000</td>\n",
       "    </tr>\n",
       "    <tr>\n",
       "      <th>25%</th>\n",
       "      <td>119.000000</td>\n",
       "      <td>2.020102e+07</td>\n",
       "      <td>4394.000000</td>\n",
       "    </tr>\n",
       "    <tr>\n",
       "      <th>50%</th>\n",
       "      <td>126.000000</td>\n",
       "      <td>2.020120e+07</td>\n",
       "      <td>6140.000000</td>\n",
       "    </tr>\n",
       "    <tr>\n",
       "      <th>75%</th>\n",
       "      <td>134.000000</td>\n",
       "      <td>2.021012e+07</td>\n",
       "      <td>8087.250000</td>\n",
       "    </tr>\n",
       "    <tr>\n",
       "      <th>max</th>\n",
       "      <td>165.000000</td>\n",
       "      <td>2.021031e+07</td>\n",
       "      <td>9876.000000</td>\n",
       "    </tr>\n",
       "  </tbody>\n",
       "</table>\n",
       "</div>"
      ],
      "text/plain": [
       "        Id_cliente  fecha_efectiva        Id_tx\n",
       "count  2500.000000    2.488000e+03  2500.000000\n",
       "mean    126.040800    2.017161e+07  6200.070800\n",
       "std      11.125315    8.055480e+05  2132.009397\n",
       "min      91.000000    2.020000e+03  2457.000000\n",
       "25%     119.000000    2.020102e+07  4394.000000\n",
       "50%     126.000000    2.020120e+07  6140.000000\n",
       "75%     134.000000    2.021012e+07  8087.250000\n",
       "max     165.000000    2.021031e+07  9876.000000"
      ]
     },
     "execution_count": 6,
     "metadata": {},
     "output_type": "execute_result"
    }
   ],
   "source": [
    "df_Detalles.describe()"
   ]
  },
  {
   "cell_type": "code",
   "execution_count": 7,
   "id": "0f9eb345",
   "metadata": {},
   "outputs": [
    {
     "name": "stdout",
     "output_type": "stream",
     "text": [
      "<class 'pandas.core.frame.DataFrame'>\n",
      "Index: 2460 entries, 0 to 2499\n",
      "Data columns (total 5 columns):\n",
      " #   Column          Non-Null Count  Dtype  \n",
      "---  ------          --------------  -----  \n",
      " 0   Id_cliente      2460 non-null   int64  \n",
      " 1   fecha_efectiva  2460 non-null   float64\n",
      " 2   Id_tx           2460 non-null   int64  \n",
      " 3   clase           2460 non-null   object \n",
      " 4   valor           2460 non-null   object \n",
      "dtypes: float64(1), int64(2), object(2)\n",
      "memory usage: 115.3+ KB\n"
     ]
    }
   ],
   "source": [
    "df_Detalles = df_Detalles.dropna()\n",
    "df_Detalles.info()"
   ]
  },
  {
   "cell_type": "code",
   "execution_count": 8,
   "id": "edd188b8",
   "metadata": {},
   "outputs": [
    {
     "name": "stdout",
     "output_type": "stream",
     "text": [
      "Valores que no se lograrán convertir a tipo numérico:\n",
      "['41f30' '3_8383']\n"
     ]
    }
   ],
   "source": [
    "no_numericos = df_Detalles[pd.to_numeric(df_Detalles['valor'], errors='coerce').isna()]['valor'].unique()\n",
    "print(\"Valores que no se lograrán convertir a tipo numérico:\")\n",
    "print(no_numericos)"
   ]
  },
  {
   "cell_type": "code",
   "execution_count": 9,
   "id": "89da8069",
   "metadata": {},
   "outputs": [
    {
     "name": "stdout",
     "output_type": "stream",
     "text": [
      "<class 'pandas.core.frame.DataFrame'>\n",
      "Index: 2458 entries, 0 to 2499\n",
      "Data columns (total 5 columns):\n",
      " #   Column          Non-Null Count  Dtype   \n",
      "---  ------          --------------  -----   \n",
      " 0   Id_cliente      2458 non-null   int64   \n",
      " 1   fecha_efectiva  2458 non-null   float64 \n",
      " 2   Id_tx           2458 non-null   int64   \n",
      " 3   clase           2458 non-null   category\n",
      " 4   valor           2458 non-null   float64 \n",
      "dtypes: category(1), float64(2), int64(2)\n",
      "memory usage: 98.5 KB\n"
     ]
    }
   ],
   "source": [
    "df_Detalles['clase'] = df_Detalles['clase'].astype('category')\n",
    "df_Detalles['valor'] = pd.to_numeric(df_Detalles['valor'], errors='coerce')\n",
    "df_Detalles.dropna(subset=['valor'], inplace=True)\n",
    "df_Detalles.info()"
   ]
  },
  {
   "cell_type": "code",
   "execution_count": 10,
   "id": "d953ffc7",
   "metadata": {},
   "outputs": [
    {
     "name": "stdout",
     "output_type": "stream",
     "text": [
      "clase\n",
      "COMPRA    1901\n",
      "AVANCE     551\n",
      "SEGURO       6\n",
      "Name: count, dtype: int64\n"
     ]
    }
   ],
   "source": [
    "conteo_clase = df_Detalles['clase'].value_counts()\n",
    "print(conteo_clase)"
   ]
  },
  {
   "cell_type": "code",
   "execution_count": 11,
   "id": "8d20ffb6",
   "metadata": {},
   "outputs": [
    {
     "name": "stdout",
     "output_type": "stream",
     "text": [
      "Ventas de clase 'SEGURO':\n",
      "      Id_cliente  fecha_efectiva  Id_tx   clase     valor\n",
      "78           126      20201013.0   7118  SEGURO  229900.0\n",
      "346          119      20201002.0   7513  SEGURO   67900.0\n",
      "557          135      20200907.0   5101  SEGURO  558957.0\n",
      "783          140      20201212.0   5201  SEGURO   15900.0\n",
      "2220         135      20210227.0   4336  SEGURO  248163.0\n",
      "2363         139      20201015.0   4598  SEGURO  209020.0\n"
     ]
    }
   ],
   "source": [
    "df_venta_seguro = df_Detalles[df_Detalles['clase'] == 'SEGURO']\n",
    "print(\"Ventas de clase 'SEGURO':\")\n",
    "print(df_venta_seguro)"
   ]
  },
  {
   "cell_type": "code",
   "execution_count": 12,
   "id": "54e7502c",
   "metadata": {},
   "outputs": [
    {
     "name": "stdout",
     "output_type": "stream",
     "text": [
      "clase\n",
      "COMPRA    1901\n",
      "AVANCE     551\n",
      "SEGURO       0\n",
      "Name: count, dtype: int64\n"
     ]
    }
   ],
   "source": [
    "df_Detalles = df_Detalles[df_Detalles['clase'] != 'SEGURO']\n",
    "conteo_clase = df_Detalles['clase'].value_counts()\n",
    "print(conteo_clase)\n",
    "# CHequea bien en 2452"
   ]
  },
  {
   "cell_type": "code",
   "execution_count": 13,
   "id": "21dbd629",
   "metadata": {},
   "outputs": [
    {
     "name": "stdout",
     "output_type": "stream",
     "text": [
      "--- 1. Análisis de Frecuencia ---\n",
      "Cantidad de dígitos y frecuencia en 'fecha_efectiva':\n",
      "6 dígitos: 2 fechas\n",
      "8 dígitos: 2448 fechas\n",
      "\n",
      "Longitud más común (válida): 8 dígitos\n",
      "<class 'pandas.core.frame.DataFrame'>\n",
      "Index: 2448 entries, 0 to 2499\n",
      "Data columns (total 5 columns):\n",
      " #   Column          Non-Null Count  Dtype   \n",
      "---  ------          --------------  -----   \n",
      " 0   Id_cliente      2448 non-null   int64   \n",
      " 1   fecha_efectiva  2448 non-null   object  \n",
      " 2   Id_tx           2448 non-null   int64   \n",
      " 3   clase           2448 non-null   category\n",
      " 4   valor           2448 non-null   float64 \n",
      "dtypes: category(1), float64(1), int64(2), object(1)\n",
      "memory usage: 98.1+ KB\n"
     ]
    }
   ],
   "source": [
    "print(\"--- 1. Análisis de Frecuencia ---\")\n",
    "longitudes = df_Detalles['fecha_efectiva'].astype('Int64').astype(str).str.len()\n",
    "conteo_digitos = longitudes.value_counts().sort_index()\n",
    "\n",
    "print(\"Cantidad de dígitos y frecuencia en 'fecha_efectiva':\")\n",
    "for digitos, cantidad in conteo_digitos.items():\n",
    "    if digitos != 4:\n",
    "        print(f\"{digitos} dígitos: {cantidad} fechas\")\n",
    "\n",
    "longitud_comun = conteo_digitos[conteo_digitos.index != 4].idxmax()\n",
    "print(f\"\\nLongitud más común (válida): {longitud_comun} dígitos\")\n",
    "\n",
    "fechas_como_texto = df_Detalles['fecha_efectiva'].astype('Int64').astype(str)\n",
    "df_Detalles['fecha_efectiva'] = fechas_como_texto.apply(\n",
    "    lambda x: int(x) if len(x) == 8 else pd.NA\n",
    ")\n",
    "df_Detalles.dropna(subset=['fecha_efectiva'], inplace=True)\n",
    "df_Detalles.info()"
   ]
  },
  {
   "cell_type": "code",
   "execution_count": 14,
   "id": "8925684d",
   "metadata": {},
   "outputs": [
    {
     "data": {
      "application/vnd.microsoft.datawrangler.viewer.v0+json": {
       "columns": [
        {
         "name": "index",
         "rawType": "object",
         "type": "string"
        },
        {
         "name": "Id_cliente",
         "rawType": "float64",
         "type": "float"
        },
        {
         "name": "Id_tx",
         "rawType": "float64",
         "type": "float"
        },
        {
         "name": "valor",
         "rawType": "float64",
         "type": "float"
        }
       ],
       "ref": "716c581f-e64d-4c2c-8f1e-35a9cc30abad",
       "rows": [
        [
         "count",
         "2448.0",
         "2448.0",
         "2448.0"
        ],
        [
         "mean",
         "126.11151960784314",
         "6203.020424836602",
         "375839.60294117645"
        ],
        [
         "std",
         "11.126103259549465",
         "2136.4147911346276",
         "583485.2947712024"
        ],
        [
         "min",
         "91.0",
         "2457.0",
         "20.0"
        ],
        [
         "25%",
         "119.0",
         "4387.5",
         "61469.75"
        ],
        [
         "50%",
         "126.0",
         "6145.5",
         "164844.5"
        ],
        [
         "75%",
         "134.0",
         "8093.5",
         "485102.25"
        ],
        [
         "max",
         "165.0",
         "9876.0",
         "7952039.23"
        ]
       ],
       "shape": {
        "columns": 3,
        "rows": 8
       }
      },
      "text/html": [
       "<div>\n",
       "<style scoped>\n",
       "    .dataframe tbody tr th:only-of-type {\n",
       "        vertical-align: middle;\n",
       "    }\n",
       "\n",
       "    .dataframe tbody tr th {\n",
       "        vertical-align: top;\n",
       "    }\n",
       "\n",
       "    .dataframe thead th {\n",
       "        text-align: right;\n",
       "    }\n",
       "</style>\n",
       "<table border=\"1\" class=\"dataframe\">\n",
       "  <thead>\n",
       "    <tr style=\"text-align: right;\">\n",
       "      <th></th>\n",
       "      <th>Id_cliente</th>\n",
       "      <th>Id_tx</th>\n",
       "      <th>valor</th>\n",
       "    </tr>\n",
       "  </thead>\n",
       "  <tbody>\n",
       "    <tr>\n",
       "      <th>count</th>\n",
       "      <td>2448.000000</td>\n",
       "      <td>2448.000000</td>\n",
       "      <td>2.448000e+03</td>\n",
       "    </tr>\n",
       "    <tr>\n",
       "      <th>mean</th>\n",
       "      <td>126.111520</td>\n",
       "      <td>6203.020425</td>\n",
       "      <td>3.758396e+05</td>\n",
       "    </tr>\n",
       "    <tr>\n",
       "      <th>std</th>\n",
       "      <td>11.126103</td>\n",
       "      <td>2136.414791</td>\n",
       "      <td>5.834853e+05</td>\n",
       "    </tr>\n",
       "    <tr>\n",
       "      <th>min</th>\n",
       "      <td>91.000000</td>\n",
       "      <td>2457.000000</td>\n",
       "      <td>2.000000e+01</td>\n",
       "    </tr>\n",
       "    <tr>\n",
       "      <th>25%</th>\n",
       "      <td>119.000000</td>\n",
       "      <td>4387.500000</td>\n",
       "      <td>6.146975e+04</td>\n",
       "    </tr>\n",
       "    <tr>\n",
       "      <th>50%</th>\n",
       "      <td>126.000000</td>\n",
       "      <td>6145.500000</td>\n",
       "      <td>1.648445e+05</td>\n",
       "    </tr>\n",
       "    <tr>\n",
       "      <th>75%</th>\n",
       "      <td>134.000000</td>\n",
       "      <td>8093.500000</td>\n",
       "      <td>4.851022e+05</td>\n",
       "    </tr>\n",
       "    <tr>\n",
       "      <th>max</th>\n",
       "      <td>165.000000</td>\n",
       "      <td>9876.000000</td>\n",
       "      <td>7.952039e+06</td>\n",
       "    </tr>\n",
       "  </tbody>\n",
       "</table>\n",
       "</div>"
      ],
      "text/plain": [
       "        Id_cliente        Id_tx         valor\n",
       "count  2448.000000  2448.000000  2.448000e+03\n",
       "mean    126.111520  6203.020425  3.758396e+05\n",
       "std      11.126103  2136.414791  5.834853e+05\n",
       "min      91.000000  2457.000000  2.000000e+01\n",
       "25%     119.000000  4387.500000  6.146975e+04\n",
       "50%     126.000000  6145.500000  1.648445e+05\n",
       "75%     134.000000  8093.500000  4.851022e+05\n",
       "max     165.000000  9876.000000  7.952039e+06"
      ]
     },
     "execution_count": 14,
     "metadata": {},
     "output_type": "execute_result"
    }
   ],
   "source": [
    "df_Detalles.describe()"
   ]
  },
  {
   "cell_type": "code",
   "execution_count": 15,
   "id": "91c5ecd5",
   "metadata": {},
   "outputs": [
    {
     "name": "stdout",
     "output_type": "stream",
     "text": [
      "<class 'pandas.core.frame.DataFrame'>\n",
      "Index: 2448 entries, 0 to 2499\n",
      "Data columns (total 5 columns):\n",
      " #   Column          Non-Null Count  Dtype   \n",
      "---  ------          --------------  -----   \n",
      " 0   Id_cliente      2448 non-null   int64   \n",
      " 1   fecha_efectiva  2448 non-null   object  \n",
      " 2   Id_tx           2448 non-null   int64   \n",
      " 3   clase           2448 non-null   category\n",
      " 4   valor           2448 non-null   float64 \n",
      "dtypes: category(1), float64(1), int64(2), object(1)\n",
      "memory usage: 98.1+ KB\n"
     ]
    }
   ],
   "source": [
    "df_Detalles.info()"
   ]
  },
  {
   "cell_type": "code",
   "execution_count": 16,
   "id": "fdb7613d",
   "metadata": {},
   "outputs": [],
   "source": [
    "# Guardar el DataFrame combinado en un nuevo archivo CSV\n",
    "df_Detalles.to_csv('../data/'+'Detalles_clientes.csv', index=False)"
   ]
  }
 ],
 "metadata": {
  "kernelspec": {
   "display_name": "venv",
   "language": "python",
   "name": "python3"
  },
  "language_info": {
   "codemirror_mode": {
    "name": "ipython",
    "version": 3
   },
   "file_extension": ".py",
   "mimetype": "text/x-python",
   "name": "python",
   "nbconvert_exporter": "python",
   "pygments_lexer": "ipython3",
   "version": "3.10.11"
  }
 },
 "nbformat": 4,
 "nbformat_minor": 5
}
