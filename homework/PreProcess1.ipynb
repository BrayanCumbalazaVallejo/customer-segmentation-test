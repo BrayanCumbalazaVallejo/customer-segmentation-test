{
 "cells": [
  {
   "cell_type": "code",
   "execution_count": null,
   "id": "330c92d1",
   "metadata": {},
   "outputs": [],
   "source": [
    "from functions import convert_excel_to_csv\n",
    "import pandas as pd\n",
    "\n",
    "ruta_input = \"../file/input/\"\n",
    "ruta_output = \"../file/output/\"\n",
    "convert_excel_to_csv(ruta_input, ruta_output)"
   ]
  },
  {
   "cell_type": "code",
   "execution_count": null,
   "id": "f5fc4f84",
   "metadata": {},
   "outputs": [],
   "source": [
    "ruta_output = \"../file/output/\"\n",
    "import pandas as pd\n",
    "df_Detalle_cliente = pd.read_csv(ruta_output+'Detalle_cliente.csv',index_col=False)\n",
    "df_Detalle_tx = pd.read_csv(ruta_output+'Detalle_tx.csv',index_col=False)"
   ]
  },
  {
   "cell_type": "code",
   "execution_count": null,
   "id": "775a2c88",
   "metadata": {},
   "outputs": [],
   "source": [
    "df_Detalle_cliente.columns = df_Detalle_cliente.columns.str.strip()\n",
    "df_Detalle_tx.columns = df_Detalle_tx.columns.str.strip()\n",
    "print(\"Columnas de Detalle_cliente:\")\n",
    "print(df_Detalle_cliente.columns.tolist())\n",
    "print(\"Columnas de Detalle_tx:\")\n",
    "print(df_Detalle_tx.columns.tolist())"
   ]
  },
  {
   "cell_type": "code",
   "execution_count": null,
   "id": "346f61f3",
   "metadata": {},
   "outputs": [],
   "source": [
    "comparacion_exacta = df_Detalle_cliente['Id_tx'].equals(df_Detalle_tx['Id_tx'])\n",
    "\n",
    "if comparacion_exacta:\n",
    "    print(\"¡Perfecto! Las columnas 'Id_tx' son idénticas y están en el mismo orden.\")\n",
    "    df_Detalles = pd.concat([df_Detalle_cliente, df_Detalle_tx.drop('Id_tx', axis=1)], axis=1)\n",
    "\n",
    "print(\"Columnas del DataFrame combinado:\")\n",
    "print(df_Detalles.columns.tolist())"
   ]
  },
  {
   "cell_type": "code",
   "execution_count": null,
   "id": "1ba85781",
   "metadata": {},
   "outputs": [],
   "source": [
    "df_Detalles.info()"
   ]
  },
  {
   "cell_type": "code",
   "execution_count": null,
   "id": "a7e35805",
   "metadata": {},
   "outputs": [],
   "source": [
    "df_Detalles.describe()"
   ]
  },
  {
   "cell_type": "code",
   "execution_count": null,
   "id": "0f9eb345",
   "metadata": {},
   "outputs": [],
   "source": [
    "df_Detalles = df_Detalles.dropna()\n",
    "df_Detalles.info()"
   ]
  },
  {
   "cell_type": "code",
   "execution_count": null,
   "id": "edd188b8",
   "metadata": {},
   "outputs": [],
   "source": [
    "no_numericos = df_Detalles[pd.to_numeric(df_Detalles['valor'], errors='coerce').isna()]['valor'].unique()\n",
    "print(\"Valores que no se lograrán convertir a tipo numérico:\")\n",
    "print(no_numericos)"
   ]
  },
  {
   "cell_type": "code",
   "execution_count": null,
   "id": "89da8069",
   "metadata": {},
   "outputs": [],
   "source": [
    "df_Detalles['clase'] = df_Detalles['clase'].astype('category')\n",
    "df_Detalles['valor'] = pd.to_numeric(df_Detalles['valor'], errors='coerce')\n",
    "df_Detalles.dropna(subset=['valor'], inplace=True)\n",
    "df_Detalles.info()"
   ]
  },
  {
   "cell_type": "code",
   "execution_count": null,
   "id": "d953ffc7",
   "metadata": {},
   "outputs": [],
   "source": [
    "conteo_clase = df_Detalles['clase'].value_counts()\n",
    "print(conteo_clase)"
   ]
  },
  {
   "cell_type": "code",
   "execution_count": null,
   "id": "8d20ffb6",
   "metadata": {},
   "outputs": [],
   "source": [
    "df_venta_seguro = df_Detalles[df_Detalles['clase'] == 'SEGURO']\n",
    "print(\"Ventas de clase 'SEGURO':\")\n",
    "print(df_venta_seguro)"
   ]
  },
  {
   "cell_type": "code",
   "execution_count": null,
   "id": "54e7502c",
   "metadata": {},
   "outputs": [],
   "source": [
    "df_Detalles = df_Detalles[df_Detalles['clase'] != 'SEGURO']\n",
    "conteo_clase = df_Detalles['clase'].value_counts()\n",
    "print(conteo_clase)\n",
    "# CHequea bien en 2452"
   ]
  },
  {
   "cell_type": "code",
   "execution_count": null,
   "id": "21dbd629",
   "metadata": {},
   "outputs": [],
   "source": [
    "print(\"--- 1. Análisis de Frecuencia ---\")\n",
    "longitudes = df_Detalles['fecha_efectiva'].astype('Int64').astype(str).str.len()\n",
    "conteo_digitos = longitudes.value_counts().sort_index()\n",
    "\n",
    "print(\"Cantidad de dígitos y frecuencia en 'fecha_efectiva':\")\n",
    "for digitos, cantidad in conteo_digitos.items():\n",
    "    if digitos != 4:\n",
    "        print(f\"{digitos} dígitos: {cantidad} fechas\")\n",
    "\n",
    "longitud_comun = conteo_digitos[conteo_digitos.index != 4].idxmax()\n",
    "print(f\"\\nLongitud más común (válida): {longitud_comun} dígitos\")\n",
    "\n",
    "fechas_como_texto = df_Detalles['fecha_efectiva'].astype('Int64').astype(str)\n",
    "df_Detalles['fecha_efectiva'] = fechas_como_texto.apply(\n",
    "    lambda x: int(x) if len(x) == 8 else pd.NA\n",
    ")\n",
    "df_Detalles.dropna(subset=['fecha_efectiva'], inplace=True)\n",
    "df_Detalles.info()"
   ]
  },
  {
   "cell_type": "code",
   "execution_count": null,
   "id": "8925684d",
   "metadata": {},
   "outputs": [],
   "source": [
    "df_Detalles.describe()"
   ]
  },
  {
   "cell_type": "code",
   "execution_count": null,
   "id": "91c5ecd5",
   "metadata": {},
   "outputs": [],
   "source": [
    "df_Detalles.info()"
   ]
  },
  {
   "cell_type": "code",
   "execution_count": null,
   "id": "fdb7613d",
   "metadata": {},
   "outputs": [],
   "source": [
    "# Guardar el DataFrame combinado en un nuevo archivo CSV\n",
    "df_Detalles.to_csv('../data/'+'Detalles_clientes.csv', index=False)"
   ]
  }
 ],
 "metadata": {
  "kernelspec": {
   "display_name": "venv",
   "language": "python",
   "name": "python3"
  },
  "language_info": {
   "codemirror_mode": {
    "name": "ipython",
    "version": 3
   },
   "file_extension": ".py",
   "mimetype": "text/x-python",
   "name": "python",
   "nbconvert_exporter": "python",
   "pygments_lexer": "ipython3",
   "version": "3.10.11"
  }
 },
 "nbformat": 4,
 "nbformat_minor": 5
}
