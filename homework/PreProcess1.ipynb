{
 "cells": [
  {
   "cell_type": "code",
   "execution_count": 1,
   "id": "330c92d1",
   "metadata": {},
   "outputs": [
    {
     "name": "stdout",
     "output_type": "stream",
     "text": [
      "--- Procesando hoja simple: Detalle_cliente ---\n",
      "Hoja simple guardada en: Detalle_cliente.csv\n",
      "--- Procesando hoja simple: Detalle_tx ---\n",
      "Hoja simple guardada en: Detalle_tx.csv\n",
      "--- Procesando hoja: SQL ---\n",
      "✅ Tabla 1 identificada y guardada en: SQL_tabla_1.csv\n",
      "✅ Tabla 2 identificada y guardada en: SQL_tabla_2.csv\n",
      "✅ Tabla 3 identificada y guardada en: SQL_tabla_3.csv\n"
     ]
    },
    {
     "data": {
      "text/plain": [
       "True"
      ]
     },
     "execution_count": 1,
     "metadata": {},
     "output_type": "execute_result"
    }
   ],
   "source": [
    "from functions import convert_excel_to_csv\n",
    "import pandas as pd\n",
    "\n",
    "ruta_input = \"../file/input/\"\n",
    "ruta_output = \"../file/output/\"\n",
    "convert_excel_to_csv(ruta_input, ruta_output)"
   ]
  }
 ],
 "metadata": {
  "kernelspec": {
   "display_name": "venv",
   "language": "python",
   "name": "python3"
  },
  "language_info": {
   "codemirror_mode": {
    "name": "ipython",
    "version": 3
   },
   "file_extension": ".py",
   "mimetype": "text/x-python",
   "name": "python",
   "nbconvert_exporter": "python",
   "pygments_lexer": "ipython3",
   "version": "3.10.11"
  }
 },
 "nbformat": 4,
 "nbformat_minor": 5
}
