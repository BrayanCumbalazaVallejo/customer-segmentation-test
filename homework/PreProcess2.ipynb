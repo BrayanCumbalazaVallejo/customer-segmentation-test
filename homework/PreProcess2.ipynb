{
 "cells": [
  {
   "cell_type": "code",
   "execution_count": null,
   "id": "109e07ba",
   "metadata": {},
   "outputs": [],
   "source": [
    "import pandas as pd\n",
    "import numpy as np\n",
    "ruta_input = \"../file/output/\"\n",
    "df_Estudiante = pd.read_csv(ruta_input+'SQL_tabla_1.csv',index_col=False, skiprows=2)\n",
    "df_Ciudad = pd.read_csv(ruta_input+'SQL_tabla_2.csv', skiprows=2)\n",
    "ruta_output_clean = \"../data/\""
   ]
  },
  {
   "cell_type": "code",
   "execution_count": null,
   "id": "2fd2c709",
   "metadata": {},
   "outputs": [],
   "source": [
    "df_Estudiante.info()"
   ]
  },
  {
   "cell_type": "code",
   "execution_count": null,
   "id": "e964501a",
   "metadata": {},
   "outputs": [],
   "source": [
    "if df_Estudiante['ID'].is_unique:\n",
    "    print(\"El ID de estudiante es único.\")\n",
    "\n",
    "carreras = df_Estudiante['CARRERA'].unique()\n",
    "print(\"Carreras únicas:\", carreras)\n"
   ]
  },
  {
   "cell_type": "code",
   "execution_count": null,
   "id": "3df6baa1",
   "metadata": {},
   "outputs": [],
   "source": [
    "dominios_default = df_Estudiante['CORREO'].str.split('@').str[1]\n",
    "print(\"Dominios por defecto:\", dominios_default.unique())\n",
    "\n",
    "casos_sin_arroba = df_Estudiante[~df_Estudiante['CORREO'].str.contains('@', na=False)][['ID', 'CORREO']]\n",
    "print(casos_sin_arroba)\n",
    "\n",
    "# Remplazara correo de \"ID == 6\" por \"odyuliana_@hotmail.com\"\n",
    "df_Estudiante.loc[df_Estudiante['ID'] == 6, 'CORREO'] = 'odyuliana_@hotmail.com'\n",
    "df_Estudiante.loc[df_Estudiante['ID'] == 6, 'CONTACTO_INCOMPLETO'] = 'CORREO'"
   ]
  },
  {
   "cell_type": "code",
   "execution_count": null,
   "id": "1e5c1353",
   "metadata": {},
   "outputs": [],
   "source": [
    "# Estos dominios hotmail, gmail, outlook son validos sin terminan en .com \n",
    "df_Estudiante['CORREO'] = df_Estudiante['CORREO'].str.replace(r'@.*(hotmail|gmail|outlook).*', r'@\\1.com', regex=True).where(df_Estudiante['CORREO'].str.contains(r'@(hotmail|gmail|outlook)', na=False))"
   ]
  },
  {
   "cell_type": "code",
   "execution_count": null,
   "id": "a9e9ac6f",
   "metadata": {},
   "outputs": [],
   "source": [
    "correos_a_reemplazar = df_Estudiante[df_Estudiante['CORREO'].isin(['@gmail.com', '@hotmail.com', '@outlook.com'])][['ID', 'CORREO']]\n",
    "print(\"Correos a reemplazar:\\n\", correos_a_reemplazar)\n",
    "df_Estudiante.loc[df_Estudiante['ID'].isin(correos_a_reemplazar['ID']), 'CORREO'] = np.nan"
   ]
  },
  {
   "cell_type": "code",
   "execution_count": null,
   "id": "64fec158",
   "metadata": {},
   "outputs": [],
   "source": [
    "df = df_Estudiante['TELEFONO'].astype(str).str.replace(r'\\D', '', regex=True).str.len()\n",
    "\n",
    "conteo_digitos = df.value_counts().sort_index()\n",
    "print(\"Cantidad de dígitos y frecuencia:\")\n",
    "for digitos, cantidad in conteo_digitos.items():\n",
    "    print(f\"{digitos} dígitos: {cantidad} teléfonos\")\n",
    "\n",
    "print(f\"\\nMás común: {conteo_digitos.index[conteo_digitos.argmax()]} dígitos\")\n"
   ]
  },
  {
   "cell_type": "code",
   "execution_count": null,
   "id": "9a733be6",
   "metadata": {},
   "outputs": [],
   "source": [
    "# formatear la columana df_Estudiante['TELEFONO'] a entero si tiene 7 digitos, sino convertirlo a NaN\n",
    "df_Estudiante['TELEFONO'] = df_Estudiante['TELEFONO'].astype(str).str.replace(r'\\D', '', regex=True)\n",
    "df_Estudiante['TELEFONO'] = df_Estudiante['TELEFONO'].apply(lambda x: int(x) if len(x) == 7 else pd.NA)\n",
    "df_Estudiante.info()"
   ]
  },
  {
   "cell_type": "code",
   "execution_count": null,
   "id": "cb51ce41",
   "metadata": {},
   "outputs": [],
   "source": [
    "# FECHAINGRESO: object → debería ser datetime sin tener en cuenta la hora\n",
    "df_Estudiante['FECHAINGRESO'] = pd.to_datetime(df_Estudiante['FECHAINGRESO'], errors='coerce').dt.date\n",
    "condiciones = [\n",
    "    df_Estudiante['FECHAINGRESO'].isnull(),\n",
    "    df_Estudiante['TELEFONO'].isnull(),\n",
    "    df_Estudiante['CORREO'].isnull()\n",
    "]\n",
    "\n",
    "opciones = ['FECHAINGRESO', 'TELEFONO', 'CORREO']\n",
    "df_Estudiante['CONTACTO_INCOMPLETO'] = np.select(condiciones, opciones, default=None)\n"
   ]
  },
  {
   "cell_type": "code",
   "execution_count": null,
   "id": "59a9decf",
   "metadata": {},
   "outputs": [],
   "source": [
    "mapa_ciudades = df_Ciudad.set_index('CODIGOCIUDAD')['NOMBRECIUDAD']\n",
    "df_Estudiante['NOMBRECIUDAD'] = df_Estudiante['CODIGOCIUDAD'].map(mapa_ciudades)\n",
    "\n",
    "columna_ciudad = df_Estudiante.pop('NOMBRECIUDAD')\n",
    "posicion_insercion = df_Estudiante.columns.get_loc('CONTACTO_INCOMPLETO')\n",
    "df_Estudiante.insert(loc=posicion_insercion, column='NOMBRECIUDAD', value=columna_ciudad)\n",
    "\n",
    "conteo_estudiantes = df_Estudiante['CODIGOCIUDAD'].value_counts()\n",
    "df_Ciudad['ESTUDIANTES'] = df_Ciudad['CODIGOCIUDAD'].map(conteo_estudiantes).fillna(0).astype(int)\n",
    "#Ordenar por \"Estudiantes\"\n",
    "df_Ciudad = df_Ciudad.sort_values(by='ESTUDIANTES', ascending=False)\n"
   ]
  },
  {
   "cell_type": "code",
   "execution_count": null,
   "id": "e5da9409",
   "metadata": {},
   "outputs": [],
   "source": [
    "df_Estudiante.loc[df_Estudiante['ID'] == 6, 'CONTACTO_INCOMPLETO'] = 'CORREO'\n",
    "df_Estudiante.to_csv(ruta_output_clean+'Estudiante.csv', index=False)\n",
    "df_Ciudad.to_csv(ruta_output_clean+'Ciudad.csv', index=False)"
   ]
  }
 ],
 "metadata": {
  "kernelspec": {
   "display_name": "venv",
   "language": "python",
   "name": "python3"
  },
  "language_info": {
   "codemirror_mode": {
    "name": "ipython",
    "version": 3
   },
   "file_extension": ".py",
   "mimetype": "text/x-python",
   "name": "python",
   "nbconvert_exporter": "python",
   "pygments_lexer": "ipython3",
   "version": "3.10.11"
  }
 },
 "nbformat": 4,
 "nbformat_minor": 5
}
