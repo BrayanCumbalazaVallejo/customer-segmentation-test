{
 "cells": [
  {
   "cell_type": "code",
   "execution_count": 1,
   "id": "1543bd55",
   "metadata": {},
   "outputs": [],
   "source": [
    "ruta_input = \"../data/\"\n",
    "import pandas as pd\n",
    "df = pd.read_csv(ruta_input+'Detalles_clientes.csv',index_col=False)"
   ]
  }
 ],
 "metadata": {
  "kernelspec": {
   "display_name": "venv",
   "language": "python",
   "name": "python3"
  },
  "language_info": {
   "codemirror_mode": {
    "name": "ipython",
    "version": 3
   },
   "file_extension": ".py",
   "mimetype": "text/x-python",
   "name": "python",
   "nbconvert_exporter": "python",
   "pygments_lexer": "ipython3",
   "version": "3.10.11"
  }
 },
 "nbformat": 4,
 "nbformat_minor": 5
}
