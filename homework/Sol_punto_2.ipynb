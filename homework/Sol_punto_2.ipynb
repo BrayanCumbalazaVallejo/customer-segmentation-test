{
 "cells": [
  {
   "cell_type": "code",
   "execution_count": 53,
   "id": "8a51eae3",
   "metadata": {},
   "outputs": [],
   "source": [
    "import pandas as pd\n",
    "import numpy as np\n",
    "ruta_input = \"../data/\"\n",
    "df_Estudiante = pd.read_csv(ruta_input + \"Estudiante.csv\", sep=\",\")\n",
    "df_Ciudad = pd.read_csv(ruta_input + \"Ciudad.csv\", sep=\",\")"
   ]
  },
  {
   "cell_type": "code",
   "execution_count": 54,
   "id": "16d87750",
   "metadata": {},
   "outputs": [
    {
     "name": "stdout",
     "output_type": "stream",
     "text": [
      "Columnas df_Estudiante: ['ID', 'NOMBREAPELLIDO', 'CODIGOCIUDAD', 'FECHAINGRESO', 'TELEFONO', 'CORREO', 'CARRERA', 'NOMBRECIUDAD', 'CONTACTO_INCOMPLETO']\n",
      "Columnas df_Ciudad: ['CODIGOCIUDAD', 'NOMBRECIUDAD', 'ESTUDIANTES']\n"
     ]
    }
   ],
   "source": [
    "# Columnas de los dataframes\n",
    "print(\"Columnas df_Estudiante:\", df_Estudiante.columns.tolist())\n",
    "print(\"Columnas df_Ciudad:\", df_Ciudad.columns.tolist())"
   ]
  },
  {
   "cell_type": "code",
   "execution_count": 55,
   "id": "44cefa30",
   "metadata": {},
   "outputs": [
    {
     "name": "stdout",
     "output_type": "stream",
     "text": [
      "     NOMBRECIUDAD  ESTUDIANTES\n",
      "0    Barranquilla          188\n",
      "1          Bogotá          148\n",
      "2        Medellín          138\n",
      "3   Villavicencio           69\n",
      "4     Santa Marta           68\n",
      "5       Manizales           67\n",
      "6           Pasto           67\n",
      "7       Cartagena           65\n",
      "8         Rioacha           65\n",
      "9         Popayán           64\n",
      "10        Pereira           61\n",
      "11           Cali            0\n",
      "12          Neiva            0\n",
      "13        Armenia            0\n",
      "14     Valledupar            0\n"
     ]
    }
   ],
   "source": [
    "# Primera Pregunta\n",
    "# Número de estudiantes por ciudad, organizado de mayor a menor\n",
    "print(df_Ciudad.sort_values(by='ESTUDIANTES', ascending=False)[['NOMBRECIUDAD', 'ESTUDIANTES']])"
   ]
  },
  {
   "cell_type": "code",
   "execution_count": 56,
   "id": "3307d176",
   "metadata": {},
   "outputs": [
    {
     "name": "stdout",
     "output_type": "stream",
     "text": [
      "11          Cali\n",
      "12         Neiva\n",
      "13       Armenia\n",
      "14    Valledupar\n",
      "Name: NOMBRECIUDAD, dtype: object\n"
     ]
    }
   ],
   "source": [
    "# Cuarta Pregunta\n",
    "print(df_Ciudad[df_Ciudad['ESTUDIANTES'] == 0]['NOMBRECIUDAD'])"
   ]
  },
  {
   "cell_type": "code",
   "execution_count": 57,
   "id": "3b7b9761",
   "metadata": {},
   "outputs": [
    {
     "name": "stdout",
     "output_type": "stream",
     "text": [
      "    AÑO_INGRESO                     CARRERA  CANTIDAD_ESTUDIANTES\n",
      "0        2016.0  Administración de empresas                     6\n",
      "1        2016.0            Ciencia política                    10\n",
      "2        2016.0                 Estadística                     9\n",
      "3        2016.0                   Geología                     12\n",
      "4        2016.0      Ingenieria electrónica                     8\n",
      "..          ...                         ...                   ...\n",
      "75       2023.0          Ingenieria química                     8\n",
      "76       2023.0       Ingeniería Industrial                     6\n",
      "77       2023.0      Ingeniería de sistemas                    12\n",
      "78       2023.0        Ingeniería eléctrica                     7\n",
      "79       2023.0                 Matemáticas                     9\n",
      "\n",
      "[80 rows x 3 columns]\n"
     ]
    }
   ],
   "source": [
    "# fecha de tipo \"object\" a tipo datetime y extraer el año\n",
    "df_Estudiante['AÑO_INGRESO'] = pd.to_datetime(df_Estudiante['FECHAINGRESO']).dt.year\n",
    "\n",
    "# 2. Agrupar por año de ingreso y carrera, y contar los estudiantes.\n",
    "estudiantes_por_año_carrera = df_Estudiante.groupby(['AÑO_INGRESO', 'CARRERA']).size().reset_index(name='CANTIDAD_ESTUDIANTES')\n",
    "\n",
    "# 3. Imprimir el resultado\n",
    "print(estudiantes_por_año_carrera)"
   ]
  },
  {
   "cell_type": "code",
   "execution_count": 58,
   "id": "91372b00",
   "metadata": {},
   "outputs": [
    {
     "name": "stdout",
     "output_type": "stream",
     "text": [
      "      NOMBRECIUDAD                     CARRERA  CANTIDAD_ESTUDIANTES\n",
      "0     Barranquilla  Administración de empresas                    16\n",
      "1     Barranquilla            Ciencia política                    17\n",
      "2     Barranquilla                 Estadística                    24\n",
      "3     Barranquilla                   Geología                     21\n",
      "4     Barranquilla      Ingenieria electrónica                    18\n",
      "..             ...                         ...                   ...\n",
      "105  Villavicencio          Ingenieria química                     8\n",
      "106  Villavicencio       Ingeniería Industrial                     4\n",
      "107  Villavicencio      Ingeniería de sistemas                     6\n",
      "108  Villavicencio        Ingeniería eléctrica                     3\n",
      "109  Villavicencio                 Matemáticas                    11\n",
      "\n",
      "[110 rows x 3 columns]\n"
     ]
    }
   ],
   "source": [
    "estudiantes_por_ciudad_carrera = df_Estudiante.groupby(['NOMBRECIUDAD', 'CARRERA']).size().reset_index(name='CANTIDAD_ESTUDIANTES')\n",
    "\n",
    "# 2. Imprimir el resultado final\n",
    "print(estudiantes_por_ciudad_carrera)"
   ]
  },
  {
   "cell_type": "code",
   "execution_count": 59,
   "id": "e664f320",
   "metadata": {},
   "outputs": [
    {
     "name": "stdout",
     "output_type": "stream",
     "text": [
      "   ID NOMBREAPELLIDO  CODIGOCIUDAD FECHAINGRESO   TELEFONO  \\\n",
      "0   1         EDELKA             1   2019-03-05  2579148.0   \n",
      "1   2           LUAN             5   2019-10-06  3925183.0   \n",
      "2   3         SIOMER             2   2020-03-07  2787650.0   \n",
      "3   4         ZAHORY             2   2019-12-08  3868566.0   \n",
      "4   5       HICTADOR             1   2019-03-09  3047140.0   \n",
      "5   6      ODYULIANA            10   2018-12-10  3123439.0   \n",
      "6   7      MIRIANGEL             4   2020-08-01  3059570.0   \n",
      "7   8        EDWSAIN             2   2019-03-12  3799145.0   \n",
      "8   9         MAIIRA             1   2023-08-01  3349499.0   \n",
      "9  10         BELLCE             6   2020-10-29  3232500.0   \n",
      "\n",
      "                  CORREO                 CARRERA  NOMBRECIUDAD  \\\n",
      "0     edelka@hotmail.com  Ingeniería de sistemas        Bogotá   \n",
      "1       luan@hotmail.com      Ingenieria química  Barranquilla   \n",
      "2     siomer@hotmail.com  Ingeniería de sistemas      Medellín   \n",
      "3     zahory@hotmail.com  Ingeniería de sistemas      Medellín   \n",
      "4   hictador@hotmail.com  Ingeniería de sistemas        Bogotá   \n",
      "5                    NaN             Matemáticas       Popayán   \n",
      "6  mariangel@hotmail.com        Ciencia política     Cartagena   \n",
      "7                    NaN             Estadística      Medellín   \n",
      "8       Lina@hotmail.com  Ingeniería de sistemas        Bogotá   \n",
      "9       bellce@gmail.com        Ciencia política     Manizales   \n",
      "\n",
      "  CONTACTO_INCOMPLETO  AÑO_INGRESO  MESES_TRANSCURRIDOS  \n",
      "0                 NaN       2019.0                 55.0  \n",
      "1                 NaN       2019.0                 48.0  \n",
      "2                 NaN       2020.0                 43.0  \n",
      "3                 NaN       2019.0                 46.0  \n",
      "4                 NaN       2019.0                 55.0  \n",
      "5              CORREO       2018.0                 58.0  \n",
      "6                 NaN       2020.0                 38.0  \n",
      "7              CORREO       2019.0                 55.0  \n",
      "8                 NaN       2023.0                  2.0  \n",
      "9                 NaN       2020.0                 36.0  \n"
     ]
    }
   ],
   "source": [
    "# meses han transcurrido desde la fecha de ingreso a hoy (1/10/2023) por cada estudiate.\n",
    "fecha_hoy = pd.to_datetime('2023-10-01')\n",
    "fechas_convertidas = pd.to_datetime(df_Estudiante['FECHAINGRESO'], errors='coerce')\n",
    "df_Estudiante['MESES_TRANSCURRIDOS'] = (fecha_hoy.year - fechas_convertidas.dt.year) * 12 + \\\n",
    "                                      (fecha_hoy.month - fechas_convertidas.dt.month)\n",
    "print(df_Estudiante.head(10))"
   ]
  },
  {
   "cell_type": "code",
   "execution_count": 60,
   "id": "e59c8eca",
   "metadata": {},
   "outputs": [
    {
     "name": "stdout",
     "output_type": "stream",
     "text": [
      "Estudiantes con teléfono, correo o fecha de ingreso faltante:\n",
      "      ID NOMBREAPELLIDO CONTACTO_INCOMPLETO\n",
      "5      6      ODYULIANA              CORREO\n",
      "7      8        EDWSAIN              CORREO\n",
      "228  229         NEIYER              CORREO\n",
      "747  748       KEOPASTY              CORREO\n",
      "964  965        SORAMAY        FECHAINGRESO\n",
      "750  751         ALGARO        FECHAINGRESO\n",
      "309  310        SIBELIA        FECHAINGRESO\n",
      "521  522         HAYDUK        FECHAINGRESO\n",
      "155  156        LAURELY        FECHAINGRESO\n",
      "365  366        MARIAIS            TELEFONO\n",
      "409  410        ANDIERI            TELEFONO\n",
      "980  981         MIRLEI            TELEFONO\n",
      "526  527          LAYNA            TELEFONO\n",
      "590  591         ALENAY            TELEFONO\n",
      "632  633           GIME            TELEFONO\n",
      "232  233        ERCIRIA            TELEFONO\n",
      "774  775          YABAN            TELEFONO\n",
      "807  808         OSULAY            TELEFONO\n",
      "868  869           JHPN            TELEFONO\n",
      "51    52        DISNERY            TELEFONO\n",
      "278  279         DREICY            TELEFONO\n",
      "994  995         JHEDSI            TELEFONO\n"
     ]
    }
   ],
   "source": [
    "# 1. Crear una lista con los valores que queremos buscar\n",
    "valores_incompletos = ['TELEFONO', 'CORREO', 'FECHAINGRESO']\n",
    "\n",
    "# 2. Usar .isin() para filtrar el DataFrame.\n",
    "# Esto selecciona todas las filas donde 'CONTACTO_INCOMPLETO' es uno de los valores de la lista.\n",
    "estudiantes_con_datos_faltantes = df_Estudiante[df_Estudiante['CONTACTO_INCOMPLETO'].isin(valores_incompletos)]\n",
    "\n",
    "# 3. Imprimir el resultado ordenado por \"CONTACTO_INCOMPLETO\" para ver a todos los estudiantes identificados\n",
    "print(\"Estudiantes con teléfono, correo o fecha de ingreso faltante:\")\n",
    "print(estudiantes_con_datos_faltantes[['ID', 'NOMBREAPELLIDO', 'CONTACTO_INCOMPLETO']].sort_values(by='CONTACTO_INCOMPLETO'))\n"
   ]
  }
 ],
 "metadata": {
  "kernelspec": {
   "display_name": "venv",
   "language": "python",
   "name": "python3"
  },
  "language_info": {
   "codemirror_mode": {
    "name": "ipython",
    "version": 3
   },
   "file_extension": ".py",
   "mimetype": "text/x-python",
   "name": "python",
   "nbconvert_exporter": "python",
   "pygments_lexer": "ipython3",
   "version": "3.10.11"
  }
 },
 "nbformat": 4,
 "nbformat_minor": 5
}
