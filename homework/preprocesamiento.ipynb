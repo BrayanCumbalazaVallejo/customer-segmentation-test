{
 "cells": [
  {
   "cell_type": "code",
   "execution_count": 13,
   "id": "330c92d1",
   "metadata": {},
   "outputs": [
    {
     "name": "stdout",
     "output_type": "stream",
     "text": [
      "Guardado: Detalle_cliente.csv\n",
      "Guardado: Detalle_tx.csv\n",
      "Guardado: SQL.csv\n",
      "Se guardaron 3 archivos CSV en ../file/output/\n"
     ]
    },
    {
     "data": {
      "text/plain": [
       "True"
      ]
     },
     "execution_count": 13,
     "metadata": {},
     "output_type": "execute_result"
    }
   ],
   "source": [
    "from functions import convert_excel_to_csv\n",
    "ruta_input = \"../file/input/\"\n",
    "ruta_output = \"../file/output/\"\n",
    "convert_excel_to_csv(ruta_input)"
   ]
  }
 ],
 "metadata": {
  "kernelspec": {
   "display_name": "venv",
   "language": "python",
   "name": "python3"
  },
  "language_info": {
   "codemirror_mode": {
    "name": "ipython",
    "version": 3
   },
   "file_extension": ".py",
   "mimetype": "text/x-python",
   "name": "python",
   "nbconvert_exporter": "python",
   "pygments_lexer": "ipython3",
   "version": "3.10.11"
  }
 },
 "nbformat": 4,
 "nbformat_minor": 5
}
