{
 "cells": [
  {
   "cell_type": "code",
   "execution_count": 1,
   "id": "330c92d1",
   "metadata": {},
   "outputs": [
    {
     "name": "stdout",
     "output_type": "stream",
     "text": [
      "--- Procesando hoja simple: Detalle_cliente ---\n",
      "Hoja simple guardada en: Detalle_cliente.csv\n",
      "--- Procesando hoja simple: Detalle_tx ---\n",
      "Hoja simple guardada en: Detalle_tx.csv\n",
      "--- Procesando hoja: SQL ---\n",
      "✅ Tabla 1 identificada y guardada en: SQL_tabla_1.csv\n",
      "✅ Tabla 2 identificada y guardada en: SQL_tabla_2.csv\n",
      "✅ Tabla 3 identificada y guardada en: SQL_tabla_3.csv\n"
     ]
    },
    {
     "data": {
      "text/plain": [
       "True"
      ]
     },
     "execution_count": 1,
     "metadata": {},
     "output_type": "execute_result"
    }
   ],
   "source": [
    "from functions import convert_excel_to_csv\n",
    "import pandas as pd\n",
    "\n",
    "ruta_input = \"../file/input/\"\n",
    "ruta_output = \"../file/output/\"\n",
    "convert_excel_to_csv(ruta_input, ruta_output)"
   ]
  },
  {
   "cell_type": "code",
   "execution_count": null,
   "id": "9228e3ce",
   "metadata": {},
   "outputs": [],
   "source": []
  },
  {
   "cell_type": "code",
   "execution_count": 2,
   "id": "109e07ba",
   "metadata": {},
   "outputs": [],
   "source": [
    "df_Estudiante = pd.read_csv(ruta_output+'SQL_tabla_1.csv',index_col=False, skiprows=2)\n",
    "df_Ciudad = pd.read_csv(ruta_output+'SQL_tabla_2.csv', skiprows=2)\n",
    "ruta_output_clean = \"../data/\"\n",
    "df_Ciudad.to_csv(ruta_output_clean+'Ciudad.csv', index=False)"
   ]
  },
  {
   "cell_type": "code",
   "execution_count": 3,
   "id": "2fd2c709",
   "metadata": {},
   "outputs": [
    {
     "name": "stdout",
     "output_type": "stream",
     "text": [
      "<class 'pandas.core.frame.DataFrame'>\n",
      "RangeIndex: 1000 entries, 0 to 999\n",
      "Data columns (total 7 columns):\n",
      " #   Column          Non-Null Count  Dtype \n",
      "---  ------          --------------  ----- \n",
      " 0   ID              1000 non-null   int64 \n",
      " 1   NOMBREAPELLIDO  1000 non-null   object\n",
      " 2   CODIGOCIUDAD    1000 non-null   int64 \n",
      " 3   FECHAINGRESO    995 non-null    object\n",
      " 4   TELEFONO        992 non-null    object\n",
      " 5   CORREO          1000 non-null   object\n",
      " 6   CARRERA         1000 non-null   object\n",
      "dtypes: int64(2), object(5)\n",
      "memory usage: 54.8+ KB\n"
     ]
    }
   ],
   "source": [
    "df_Estudiante.info()"
   ]
  },
  {
   "cell_type": "code",
   "execution_count": 4,
   "id": "e964501a",
   "metadata": {},
   "outputs": [
    {
     "name": "stdout",
     "output_type": "stream",
     "text": [
      "El ID de estudiante es único.\n",
      "Carreras únicas: ['Ingeniería de sistemas' 'Ingenieria química' 'Matemáticas'\n",
      " 'Ciencia política' 'Estadística' 'Geología ' 'Ingeniería Industrial'\n",
      " 'Administración de empresas' 'Ingeniería eléctrica'\n",
      " 'Ingenieria electrónica']\n"
     ]
    }
   ],
   "source": [
    "if df_Estudiante['ID'].is_unique:\n",
    "    print(\"El ID de estudiante es único.\")\n",
    "\n",
    "carreras = df_Estudiante['CARRERA'].unique()\n",
    "print(\"Carreras únicas:\", carreras)\n"
   ]
  },
  {
   "cell_type": "code",
   "execution_count": 5,
   "id": "3df6baa1",
   "metadata": {},
   "outputs": [
    {
     "name": "stdout",
     "output_type": "stream",
     "text": [
      "Dominios por defecto: ['hotmail.com' 'hotmail.c' nan 'gmail.com' 'outlook.com' 'outlook.co'\n",
      " 'hotmail.co' 'gmail.co' 'gmail.' 'gmail' '.co']\n",
      "   ID                 CORREO\n",
      "5   6  odyuliana_hotmail.com\n"
     ]
    }
   ],
   "source": [
    "dominios_default = df_Estudiante['CORREO'].str.split('@').str[1]\n",
    "print(\"Dominios por defecto:\", dominios_default.unique())\n",
    "\n",
    "casos_sin_arroba = df_Estudiante[~df_Estudiante['CORREO'].str.contains('@', na=False)][['ID', 'CORREO']]\n",
    "print(casos_sin_arroba)\n",
    "# Remplazara correo de \"ID == 6\" por \"odyuliana_@hotmail.com\"\n",
    "df_Estudiante.loc[df_Estudiante['ID'] == 6, 'CORREO'] = 'odyuliana_@hotmail.com'\n"
   ]
  },
  {
   "cell_type": "code",
   "execution_count": 6,
   "id": "1e5c1353",
   "metadata": {},
   "outputs": [
    {
     "name": "stderr",
     "output_type": "stream",
     "text": [
      "C:\\Users\\BRAYAN\\AppData\\Local\\Temp\\ipykernel_16524\\4169496652.py:2: UserWarning: This pattern is interpreted as a regular expression, and has match groups. To actually get the groups, use str.extract.\n",
      "  df_Estudiante['CORREO'] = df_Estudiante['CORREO'].str.replace(r'@.*(hotmail|gmail|outlook).*', r'@\\1.com', regex=True).where(df_Estudiante['CORREO'].str.contains(r'@(hotmail|gmail|outlook)', na=False))\n"
     ]
    }
   ],
   "source": [
    "# Estos dominios hotmail, gmail, outlook son validos sin terminan en .com \n",
    "df_Estudiante['CORREO'] = df_Estudiante['CORREO'].str.replace(r'@.*(hotmail|gmail|outlook).*', r'@\\1.com', regex=True).where(df_Estudiante['CORREO'].str.contains(r'@(hotmail|gmail|outlook)', na=False))\n"
   ]
  },
  {
   "cell_type": "code",
   "execution_count": 7,
   "id": "64fec158",
   "metadata": {},
   "outputs": [
    {
     "name": "stdout",
     "output_type": "stream",
     "text": [
      "Cantidad de dígitos y frecuencia:\n",
      "0 dígitos: 8 teléfonos\n",
      "4 dígitos: 2 teléfonos\n",
      "5 dígitos: 2 teléfonos\n",
      "6 dígitos: 1 teléfonos\n",
      "7 dígitos: 987 teléfonos\n",
      "\n",
      "Más común: 7 dígitos\n"
     ]
    }
   ],
   "source": [
    "df = df_Estudiante['TELEFONO'].astype(str).str.replace(r'\\D', '', regex=True).str.len()\n",
    "\n",
    "conteo_digitos = df.value_counts().sort_index()\n",
    "print(\"Cantidad de dígitos y frecuencia:\")\n",
    "for digitos, cantidad in conteo_digitos.items():\n",
    "    print(f\"{digitos} dígitos: {cantidad} teléfonos\")\n",
    "\n",
    "print(f\"\\nMás común: {conteo_digitos.index[conteo_digitos.argmax()]} dígitos\")\n"
   ]
  },
  {
   "cell_type": "code",
   "execution_count": 8,
   "id": "9a733be6",
   "metadata": {},
   "outputs": [
    {
     "name": "stdout",
     "output_type": "stream",
     "text": [
      "<class 'pandas.core.frame.DataFrame'>\n",
      "RangeIndex: 1000 entries, 0 to 999\n",
      "Data columns (total 7 columns):\n",
      " #   Column          Non-Null Count  Dtype \n",
      "---  ------          --------------  ----- \n",
      " 0   ID              1000 non-null   int64 \n",
      " 1   NOMBREAPELLIDO  1000 non-null   object\n",
      " 2   CODIGOCIUDAD    1000 non-null   int64 \n",
      " 3   FECHAINGRESO    995 non-null    object\n",
      " 4   TELEFONO        987 non-null    object\n",
      " 5   CORREO          999 non-null    object\n",
      " 6   CARRERA         1000 non-null   object\n",
      "dtypes: int64(2), object(5)\n",
      "memory usage: 54.8+ KB\n"
     ]
    }
   ],
   "source": [
    "# formatear la columana df_Estudiante['TELEFONO'] a entero si tiene 7 digitos, sino convertirlo a NaN\n",
    "df_Estudiante['TELEFONO'] = df_Estudiante['TELEFONO'].astype(str).str.replace(r'\\D', '', regex=True)\n",
    "df_Estudiante['TELEFONO'] = df_Estudiante['TELEFONO'].apply(lambda x: int(x) if len(x) == 7 else pd.NA)\n",
    "df_Estudiante.info()"
   ]
  },
  {
   "cell_type": "code",
   "execution_count": 11,
   "id": "cb51ce41",
   "metadata": {},
   "outputs": [],
   "source": [
    "# FECHAINGRESO: object → debería ser datetime sin tener en cuenta la hora\n",
    "df_Estudiante['FECHAINGRESO'] = pd.to_datetime(df_Estudiante['FECHAINGRESO'], errors='coerce').dt.date\n",
    "df_Estudiante.to_csv(ruta_output_clean+'Estudiante.csv', index=False)\n",
    "\n"
   ]
  }
 ],
 "metadata": {
  "kernelspec": {
   "display_name": "venv",
   "language": "python",
   "name": "python3"
  },
  "language_info": {
   "codemirror_mode": {
    "name": "ipython",
    "version": 3
   },
   "file_extension": ".py",
   "mimetype": "text/x-python",
   "name": "python",
   "nbconvert_exporter": "python",
   "pygments_lexer": "ipython3",
   "version": "3.10.11"
  }
 },
 "nbformat": 4,
 "nbformat_minor": 5
}
